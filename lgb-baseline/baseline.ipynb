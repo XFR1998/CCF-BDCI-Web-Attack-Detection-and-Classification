{
 "cells": [
  {
   "cell_type": "code",
   "execution_count": 1,
   "metadata": {},
   "outputs": [],
   "source": [
    "import warnings\n",
    "warnings.simplefilter('ignore')\n",
    "\n",
    "import os\n",
    "import gc\n",
    "import re\n",
    "import glob\n",
    "\n",
    "import numpy as np\n",
    "import pandas as pd\n",
    "pd.set_option('display.max_columns', None)\n",
    "pd.set_option('display.max_rows', 100)\n",
    "from tqdm.auto import tqdm\n",
    "\n",
    "from sklearn.preprocessing import LabelEncoder\n",
    "from sklearn.feature_extraction.text import TfidfVectorizer\n",
    "from sklearn.decomposition import TruncatedSVD\n",
    "from sklearn.model_selection import KFold, StratifiedKFold\n",
    "from sklearn.metrics import accuracy_score, auc\n",
    "\n",
    "from urllib.parse import quote, unquote, urlparse\n",
    "\n",
    "import lightgbm as lgb"
   ]
  },
  {
   "cell_type": "code",
   "execution_count": 3,
   "outputs": [],
   "source": [],
   "metadata": {
    "collapsed": false,
    "pycharm": {
     "name": "#%%\n"
    }
   }
  },
  {
   "cell_type": "code",
   "execution_count": 2,
   "metadata": {},
   "outputs": [],
   "source": [
    "import random\n",
    "def set_seed(seed):\n",
    "    random.seed(seed)\n",
    "    np.random.seed(seed)\n",
    "    os.environ['PYTHONHASHSEED'] = str(seed) # 禁止hash随机化\n",
    "set_seed(2022)"
   ]
  },
  {
   "cell_type": "code",
   "execution_count": 3,
   "outputs": [
    {
     "data": {
      "text/plain": "  0%|          | 0/6 [00:00<?, ?it/s]",
      "application/vnd.jupyter.widget-view+json": {
       "version_major": 2,
       "version_minor": 0,
       "model_id": "19907062b32243d788aed95005acb4b5"
      }
     },
     "metadata": {},
     "output_type": "display_data"
    },
    {
     "name": "stdout",
     "output_type": "stream",
     "text": [
      "33219\n"
     ]
    }
   ],
   "source": [
    "# train\n",
    "\n",
    "train_files = glob.glob('../data/train/*.csv')\n",
    "\n",
    "df_train = pd.DataFrame()\n",
    "\n",
    "for filepath in tqdm(train_files):\n",
    "    df = pd.read_csv(filepath)\n",
    "    df_train = pd.concat([df_train, df]).reset_index(drop=True)\n",
    "    \n",
    "df_train.fillna('__NaN__', inplace=True)\n",
    "\n",
    "# 强迫症发作..\n",
    "df_train = df_train.rename(columns={'lable': 'label'})\n",
    "df_train\n",
    "print(len(df_train))"
   ],
   "metadata": {
    "collapsed": false,
    "pycharm": {
     "name": "#%%\n"
    }
   }
  },
  {
   "cell_type": "code",
   "execution_count": 12,
   "metadata": {},
   "outputs": [],
   "source": [
    "# label\n",
    "# 0. 白\n",
    "# 1. SQL 注入\n",
    "# 2. 目录历遍\n",
    "# 3. 远程代码执行\n",
    "# 4. 命令执行\n",
    "# 5. XSS 跨站脚本"
   ]
  },
  {
   "cell_type": "code",
   "execution_count": 4,
   "metadata": {},
   "outputs": [
    {
     "data": {
      "text/plain": "        id method                                         user_agent  \\\n0        0    GET  Mozilla/5.0 (Windows NT 10.0; Win64; x64) Appl...   \n1        1    GET  Dalvik/2.1.0 (Linux; U; Android 11; M2102J2SC ...   \n2        2    GET  Mozilla/5.0 (Windows NT 10.0; rv:78.0) Gecko/2...   \n3        3    GET                                            __NaN__   \n4        4    PUT  Mozilla/5.0 (Windows NT 10.0; rv:78.0) Gecko/2...   \n...    ...    ...                                                ...   \n3995  3995    GET  Dalvik/2.1.0 (Linux; U; Android 10; POT-AL00 B...   \n3996  3996    GET  Mozilla/5.0 (Windows NT 10.0; Win64; x64) Appl...   \n3997  3997   POST                                        Mozilla/4.0   \n3998  3998    GET                                        Wget/1.11.4   \n3999  3999   POST  Mozilla/5.0 (iPhone; CPU iPhone OS 13_2_3 like...   \n\n                                                    url  \\\n0     /demo/aisec/upload.php?act='%7C%7C(select+1+fr...   \n1     /livemsg?ad_type=WL_WK&ty=web&pu=1&openudid=5f...   \n2     /create_user/?username=%3Cscript%3Ealert(docum...   \n3     /mmsns/WeDwicXmkOl4kjKsBycicI0H3q41r6syFFvu46h...   \n4                                          /naizau.jsp/   \n...                                                 ...   \n3995  /livemsg?ad_type=WL_WK&ty=web&pu=1&openudid=64...   \n3996                                        /runtime.js   \n3997                                   /query?493521812   \n3998            /stats.php?rand=JtmT4wBtrpNy5RJnNX9wCUo   \n3999  /api/gateway.do?method=qihoo.sdk.user.mobile.l...   \n\n                                                  refer  \\\n0     http://demo.aisec.cn/demo/aisec/upload.php?t=0...   \n1                                               __NaN__   \n2                                               __NaN__   \n3                                               __NaN__   \n4                                               __NaN__   \n...                                                 ...   \n3995                                            __NaN__   \n3996                          http://121.4.111.58:3000/   \n3997                                            __NaN__   \n3998                                            __NaN__   \n3999                             http://localhost:8877/   \n\n                                                   body  \n0     GET /demo/aisec/upload.php?act='%7C%7C(select+...  \n1     GET /livemsg?ad_type=WL_WK&ty=web&pu=1&openudi...  \n2                                               __NaN__  \n3                                               __NaN__  \n4     GET /login HTTP/1.1 Host: 111.160.211.18:8088 ...  \n...                                                 ...  \n3995  GET /livemsg?ad_type=WL_WK&ty=web&pu=1&openudi...  \n3996  GET /runtime.js HTTP/1.1 Host: 121.4.111.58:30...  \n3997                                            __NaN__  \n3998                                            __NaN__  \n3999  {\"method\":\"qihoo.sdk.user.mobile.login\",\"bizCo...  \n\n[4000 rows x 6 columns]",
      "text/html": "<div>\n<style scoped>\n    .dataframe tbody tr th:only-of-type {\n        vertical-align: middle;\n    }\n\n    .dataframe tbody tr th {\n        vertical-align: top;\n    }\n\n    .dataframe thead th {\n        text-align: right;\n    }\n</style>\n<table border=\"1\" class=\"dataframe\">\n  <thead>\n    <tr style=\"text-align: right;\">\n      <th></th>\n      <th>id</th>\n      <th>method</th>\n      <th>user_agent</th>\n      <th>url</th>\n      <th>refer</th>\n      <th>body</th>\n    </tr>\n  </thead>\n  <tbody>\n    <tr>\n      <th>0</th>\n      <td>0</td>\n      <td>GET</td>\n      <td>Mozilla/5.0 (Windows NT 10.0; Win64; x64) Appl...</td>\n      <td>/demo/aisec/upload.php?act='%7C%7C(select+1+fr...</td>\n      <td>http://demo.aisec.cn/demo/aisec/upload.php?t=0...</td>\n      <td>GET /demo/aisec/upload.php?act='%7C%7C(select+...</td>\n    </tr>\n    <tr>\n      <th>1</th>\n      <td>1</td>\n      <td>GET</td>\n      <td>Dalvik/2.1.0 (Linux; U; Android 11; M2102J2SC ...</td>\n      <td>/livemsg?ad_type=WL_WK&amp;ty=web&amp;pu=1&amp;openudid=5f...</td>\n      <td>__NaN__</td>\n      <td>GET /livemsg?ad_type=WL_WK&amp;ty=web&amp;pu=1&amp;openudi...</td>\n    </tr>\n    <tr>\n      <th>2</th>\n      <td>2</td>\n      <td>GET</td>\n      <td>Mozilla/5.0 (Windows NT 10.0; rv:78.0) Gecko/2...</td>\n      <td>/create_user/?username=%3Cscript%3Ealert(docum...</td>\n      <td>__NaN__</td>\n      <td>__NaN__</td>\n    </tr>\n    <tr>\n      <th>3</th>\n      <td>3</td>\n      <td>GET</td>\n      <td>__NaN__</td>\n      <td>/mmsns/WeDwicXmkOl4kjKsBycicI0H3q41r6syFFvu46h...</td>\n      <td>__NaN__</td>\n      <td>__NaN__</td>\n    </tr>\n    <tr>\n      <th>4</th>\n      <td>4</td>\n      <td>PUT</td>\n      <td>Mozilla/5.0 (Windows NT 10.0; rv:78.0) Gecko/2...</td>\n      <td>/naizau.jsp/</td>\n      <td>__NaN__</td>\n      <td>GET /login HTTP/1.1 Host: 111.160.211.18:8088 ...</td>\n    </tr>\n    <tr>\n      <th>...</th>\n      <td>...</td>\n      <td>...</td>\n      <td>...</td>\n      <td>...</td>\n      <td>...</td>\n      <td>...</td>\n    </tr>\n    <tr>\n      <th>3995</th>\n      <td>3995</td>\n      <td>GET</td>\n      <td>Dalvik/2.1.0 (Linux; U; Android 10; POT-AL00 B...</td>\n      <td>/livemsg?ad_type=WL_WK&amp;ty=web&amp;pu=1&amp;openudid=64...</td>\n      <td>__NaN__</td>\n      <td>GET /livemsg?ad_type=WL_WK&amp;ty=web&amp;pu=1&amp;openudi...</td>\n    </tr>\n    <tr>\n      <th>3996</th>\n      <td>3996</td>\n      <td>GET</td>\n      <td>Mozilla/5.0 (Windows NT 10.0; Win64; x64) Appl...</td>\n      <td>/runtime.js</td>\n      <td>http://121.4.111.58:3000/</td>\n      <td>GET /runtime.js HTTP/1.1 Host: 121.4.111.58:30...</td>\n    </tr>\n    <tr>\n      <th>3997</th>\n      <td>3997</td>\n      <td>POST</td>\n      <td>Mozilla/4.0</td>\n      <td>/query?493521812</td>\n      <td>__NaN__</td>\n      <td>__NaN__</td>\n    </tr>\n    <tr>\n      <th>3998</th>\n      <td>3998</td>\n      <td>GET</td>\n      <td>Wget/1.11.4</td>\n      <td>/stats.php?rand=JtmT4wBtrpNy5RJnNX9wCUo</td>\n      <td>__NaN__</td>\n      <td>__NaN__</td>\n    </tr>\n    <tr>\n      <th>3999</th>\n      <td>3999</td>\n      <td>POST</td>\n      <td>Mozilla/5.0 (iPhone; CPU iPhone OS 13_2_3 like...</td>\n      <td>/api/gateway.do?method=qihoo.sdk.user.mobile.l...</td>\n      <td>http://localhost:8877/</td>\n      <td>{\"method\":\"qihoo.sdk.user.mobile.login\",\"bizCo...</td>\n    </tr>\n  </tbody>\n</table>\n<p>4000 rows × 6 columns</p>\n</div>"
     },
     "execution_count": 4,
     "metadata": {},
     "output_type": "execute_result"
    }
   ],
   "source": [
    "df_test = pd.read_csv('../data/test/test.csv')\n",
    "df_test.fillna('__NaN__', inplace=True)\n",
    "df_test"
   ]
  },
  {
   "cell_type": "code",
   "execution_count": 5,
   "metadata": {},
   "outputs": [
    {
     "data": {
      "text/plain": "(37219, 7)"
     },
     "execution_count": 5,
     "metadata": {},
     "output_type": "execute_result"
    }
   ],
   "source": [
    "df = pd.concat([df_train, df_test]).reset_index(drop=True)\n",
    "df.shape"
   ]
  },
  {
   "cell_type": "code",
   "execution_count": 6,
   "metadata": {},
   "outputs": [],
   "source": [
    "def get_url_query(s):\n",
    "    li = re.split('[=&]', urlparse(s)[4])\n",
    "    return [li[i] for i in range(len(li)) if i % 2 == 1]\n",
    "\n",
    "\n",
    "def find_max_str_length(x):\n",
    "    max_ = 0\n",
    "    li = [len(i) for i in x]\n",
    "    return max(li) if len(li) > 0 else 0\n",
    "\n",
    "\n",
    "def find_str_length_std(x):\n",
    "    max_ = 0\n",
    "    li = [len(i) for i in x]\n",
    "    return np.std(li) if len(li) > 0 else -1\n",
    "\n",
    "\n",
    "df['url_unquote'] = df['url'].apply(unquote)\n",
    "df['url_query'] = df['url_unquote'].apply(lambda x: get_url_query(x))\n",
    "df['url_query_num'] = df['url_query'].apply(len)\n",
    "df['url_query_max_len'] = df['url_query'].apply(find_max_str_length)\n",
    "df['url_query_len_std'] = df['url_query'].apply(find_str_length_std)"
   ]
  },
  {
   "cell_type": "code",
   "execution_count": 16,
   "metadata": {},
   "outputs": [],
   "source": [
    "def find_url_filetype(x):\n",
    "    try:\n",
    "        return re.search(r'\\.[a-z]+', x).group()\n",
    "    except:\n",
    "        return '__NaN__'\n",
    "    \n",
    "    \n",
    "df['url_path'] = df['url_unquote'].apply(lambda x: urlparse(x)[2])\n",
    "df['url_filetype'] = df['url_path'].apply(lambda x: find_url_filetype(x))\n",
    "\n",
    "df['url_path_len'] = df['url_path'].apply(len)\n",
    "df['url_path_num'] = df['url_path'].apply(lambda x: len(re.findall('/',  x)))"
   ]
  },
  {
   "cell_type": "code",
   "execution_count": 17,
   "metadata": {
    "scrolled": false
   },
   "outputs": [],
   "source": [
    "df['ua_short'] = df['user_agent'].apply(lambda x: x.split('/')[0])\n",
    "df['ua_first'] = df['user_agent'].apply(lambda x: x.split(' ')[0])"
   ]
  },
  {
   "cell_type": "code",
   "execution_count": 18,
   "metadata": {},
   "outputs": [
    {
     "name": "stdout",
     "output_type": "stream",
     "text": [
      "Wall time: 4min 35s\n"
     ]
    }
   ],
   "source": [
    "# %%time\n",
    "\n",
    "def add_tfidf_feats(df, col, n_components=16):\n",
    "    text = list(df[col].values)\n",
    "    tf = TfidfVectorizer(min_df=1, \n",
    "                         analyzer='char_wb',\n",
    "                         ngram_range=(1,3),\n",
    "                         stop_words='english')\n",
    "    tf.fit(text)\n",
    "    X = tf.transform(text)\n",
    "    svd = TruncatedSVD(n_components=n_components)\n",
    "    svd.fit(X)\n",
    "    X_svd = svd.transform(X)\n",
    "    for i in range(n_components):\n",
    "        df[f'{col}_tfidf_{i}'] = X_svd[:, i]\n",
    "    return df\n",
    "\n",
    "\n",
    "df = add_tfidf_feats(df, 'url_unquote', n_components=16)\n",
    "df = add_tfidf_feats(df, 'user_agent', n_components=16)\n",
    "df = add_tfidf_feats(df, 'body', n_components=32)"
   ]
  },
  {
   "cell_type": "code",
   "execution_count": 19,
   "metadata": {},
   "outputs": [
    {
     "data": {
      "text/plain": "  0%|          | 0/5 [00:00<?, ?it/s]",
      "application/vnd.jupyter.widget-view+json": {
       "version_major": 2,
       "version_minor": 0,
       "model_id": "894e973782e747509e3efc3ab33a9c69"
      }
     },
     "metadata": {},
     "output_type": "display_data"
    }
   ],
   "source": [
    "for col in tqdm(['method', 'refer', 'url_filetype', 'ua_short', 'ua_first']):\n",
    "    le = LabelEncoder()\n",
    "    df[col] = le.fit_transform(df[col])"
   ]
  },
  {
   "cell_type": "code",
   "execution_count": 20,
   "metadata": {},
   "outputs": [],
   "source": [
    "not_use_feats = ['id', 'user_agent', 'url', 'body', 'url_unquote', 'url_query', 'url_path', 'label']\n",
    "use_features = [col for col in df.columns if col not in not_use_feats]"
   ]
  },
  {
   "cell_type": "code",
   "execution_count": 21,
   "metadata": {},
   "outputs": [
    {
     "data": {
      "text/plain": "((33219, 82), (4000, 82))"
     },
     "execution_count": 21,
     "metadata": {},
     "output_type": "execute_result"
    }
   ],
   "source": [
    "train = df[df['label'].notna()]\n",
    "test = df[df['label'].isna()]\n",
    "\n",
    "train.shape, test.shape"
   ]
  },
  {
   "cell_type": "code",
   "execution_count": 22,
   "metadata": {
    "scrolled": false
   },
   "outputs": [
    {
     "name": "stdout",
     "output_type": "stream",
     "text": [
      "Fold 1\n",
      "Training until validation scores don't improve for 100 rounds\n",
      "[100]\ttraining's multi_logloss: 0.00566234\tvalid_1's multi_logloss: 0.0691244\n",
      "Early stopping, best iteration is:\n",
      "[60]\ttraining's multi_logloss: 0.0109684\tvalid_1's multi_logloss: 0.067304\n",
      "Features importance...\n",
      "Top 50 features:\n",
      "                  feature  split       gain\n",
      "42          body_tfidf_0    269  14.131562\n",
      "11   url_unquote_tfidf_1    672  10.942426\n",
      "43          body_tfidf_1    220  10.542240\n",
      "23  url_unquote_tfidf_13    665   6.556286\n",
      "13   url_unquote_tfidf_3    550   5.560482\n",
      "30    user_agent_tfidf_4    217   4.519808\n",
      "26    user_agent_tfidf_0    292   3.755170\n",
      "17   url_unquote_tfidf_7    638   2.995091\n",
      "16   url_unquote_tfidf_6    556   2.834933\n",
      "15   url_unquote_tfidf_5    548   2.578374\n",
      "21  url_unquote_tfidf_11    642   2.298545\n",
      "12   url_unquote_tfidf_2    456   1.769005\n",
      "56         body_tfidf_14    218   1.683001\n",
      "3      url_query_max_len    297   1.587594\n",
      "27    user_agent_tfidf_1    209   1.576739\n",
      "47          body_tfidf_5    211   1.529978\n",
      "20  url_unquote_tfidf_10    488   1.417978\n",
      "31    user_agent_tfidf_5    299   1.137698\n",
      "54         body_tfidf_12    320   1.068573\n",
      "10   url_unquote_tfidf_0    585   1.062573\n",
      "6           url_path_len    619   1.040136\n",
      "18   url_unquote_tfidf_8    494   0.817150\n",
      "37   user_agent_tfidf_11    199   0.814074\n",
      "25  url_unquote_tfidf_15    479   0.802133\n",
      "14   url_unquote_tfidf_4    472   0.799751\n",
      "70         body_tfidf_28    260   0.799082\n",
      "24  url_unquote_tfidf_14    592   0.705586\n",
      "58         body_tfidf_16    155   0.599155\n",
      "65         body_tfidf_23    276   0.590882\n",
      "0                 method    140   0.523223\n",
      "22  url_unquote_tfidf_12    516   0.518015\n",
      "34    user_agent_tfidf_8    190   0.516246\n",
      "5           url_filetype    208   0.515924\n",
      "29    user_agent_tfidf_3    190   0.498998\n",
      "48          body_tfidf_6    204   0.498639\n",
      "38   user_agent_tfidf_12    202   0.456121\n",
      "64         body_tfidf_22    316   0.420028\n",
      "28    user_agent_tfidf_2    193   0.411998\n",
      "62         body_tfidf_20    178   0.408936\n",
      "49          body_tfidf_7    187   0.405695\n",
      "1                  refer    246   0.392225\n",
      "61         body_tfidf_19    199   0.391746\n",
      "35    user_agent_tfidf_9     98   0.382800\n",
      "41   user_agent_tfidf_15    209   0.364234\n",
      "59         body_tfidf_17    243   0.351067\n",
      "51          body_tfidf_9    254   0.345778\n",
      "8               ua_short    160   0.343141\n",
      "32    user_agent_tfidf_6    196   0.331885\n",
      "45          body_tfidf_3    283   0.330747\n",
      "19   url_unquote_tfidf_9    413   0.311811\n",
      "Fold 2\n",
      "Training until validation scores don't improve for 100 rounds\n",
      "[100]\ttraining's multi_logloss: 0.0057947\tvalid_1's multi_logloss: 0.0649482\n",
      "Early stopping, best iteration is:\n",
      "[73]\ttraining's multi_logloss: 0.00820849\tvalid_1's multi_logloss: 0.0638974\n",
      "Features importance...\n",
      "Top 50 features:\n",
      "                  feature  split       gain\n",
      "42          body_tfidf_0    335  14.079283\n",
      "11   url_unquote_tfidf_1    822  10.687740\n",
      "43          body_tfidf_1    265  10.408091\n",
      "23  url_unquote_tfidf_13    802   6.252897\n",
      "13   url_unquote_tfidf_3    667   5.456243\n",
      "30    user_agent_tfidf_4    249   4.469951\n",
      "26    user_agent_tfidf_0    304   3.869382\n",
      "17   url_unquote_tfidf_7    796   2.970385\n",
      "16   url_unquote_tfidf_6    705   2.937855\n",
      "15   url_unquote_tfidf_5    658   2.617627\n",
      "21  url_unquote_tfidf_11    773   2.327268\n",
      "12   url_unquote_tfidf_2    553   2.063195\n",
      "56         body_tfidf_14    255   1.729990\n",
      "27    user_agent_tfidf_1    223   1.723731\n",
      "47          body_tfidf_5    235   1.569668\n",
      "3      url_query_max_len    354   1.419982\n",
      "20  url_unquote_tfidf_10    628   1.374528\n",
      "10   url_unquote_tfidf_0    758   1.271182\n",
      "54         body_tfidf_12    403   1.264154\n",
      "6           url_path_len    719   1.108108\n",
      "31    user_agent_tfidf_5    349   1.070318\n",
      "24  url_unquote_tfidf_14    729   0.967796\n",
      "18   url_unquote_tfidf_8    649   0.933051\n",
      "25  url_unquote_tfidf_15    649   0.908722\n",
      "58         body_tfidf_16    232   0.816238\n",
      "70         body_tfidf_28    315   0.753164\n",
      "65         body_tfidf_23    318   0.683826\n",
      "37   user_agent_tfidf_11    252   0.670378\n",
      "14   url_unquote_tfidf_4    639   0.652979\n",
      "29    user_agent_tfidf_3    227   0.574829\n",
      "35    user_agent_tfidf_9    155   0.545396\n",
      "5           url_filetype    270   0.527470\n",
      "40   user_agent_tfidf_14    188   0.510911\n",
      "22  url_unquote_tfidf_12    610   0.509777\n",
      "0                 method    130   0.469517\n",
      "62         body_tfidf_20    236   0.432587\n",
      "1                  refer    302   0.427527\n",
      "51          body_tfidf_9    328   0.385798\n",
      "34    user_agent_tfidf_8    244   0.380358\n",
      "41   user_agent_tfidf_15    222   0.370693\n",
      "19   url_unquote_tfidf_9    589   0.369396\n",
      "52         body_tfidf_10    180   0.350814\n",
      "32    user_agent_tfidf_6    205   0.349259\n",
      "64         body_tfidf_22    436   0.348650\n",
      "8               ua_short    184   0.342063\n",
      "28    user_agent_tfidf_2    217   0.337188\n",
      "48          body_tfidf_6    257   0.311159\n",
      "45          body_tfidf_3    304   0.303577\n",
      "46          body_tfidf_4    205   0.291277\n",
      "49          body_tfidf_7    254   0.287912\n",
      "Fold 3\n",
      "Training until validation scores don't improve for 100 rounds\n",
      "[100]\ttraining's multi_logloss: 0.00554315\tvalid_1's multi_logloss: 0.0671943\n",
      "Early stopping, best iteration is:\n",
      "[71]\ttraining's multi_logloss: 0.00827902\tvalid_1's multi_logloss: 0.0656723\n",
      "Features importance...\n",
      "Top 50 features:\n",
      "                  feature  split       gain\n",
      "42          body_tfidf_0    371  14.377605\n",
      "11   url_unquote_tfidf_1    812  11.020661\n",
      "43          body_tfidf_1    286  10.881025\n",
      "23  url_unquote_tfidf_13    790   6.620157\n",
      "13   url_unquote_tfidf_3    690   5.358969\n",
      "30    user_agent_tfidf_4    223   4.637941\n",
      "26    user_agent_tfidf_0    298   3.929505\n",
      "17   url_unquote_tfidf_7    755   2.991790\n",
      "16   url_unquote_tfidf_6    708   2.549953\n",
      "21  url_unquote_tfidf_11    762   2.438726\n",
      "15   url_unquote_tfidf_5    599   2.374829\n",
      "12   url_unquote_tfidf_2    563   2.065038\n",
      "56         body_tfidf_14    241   2.028098\n",
      "20  url_unquote_tfidf_10    622   1.601628\n",
      "47          body_tfidf_5    229   1.484493\n",
      "27    user_agent_tfidf_1    226   1.479269\n",
      "3      url_query_max_len    286   1.304875\n",
      "10   url_unquote_tfidf_0    673   1.204616\n",
      "31    user_agent_tfidf_5    377   1.138338\n",
      "6           url_path_len    685   1.033444\n",
      "25  url_unquote_tfidf_15    695   0.941385\n",
      "24  url_unquote_tfidf_14    734   0.899157\n",
      "18   url_unquote_tfidf_8    695   0.828646\n",
      "70         body_tfidf_28    333   0.658360\n",
      "35    user_agent_tfidf_9    136   0.636037\n",
      "37   user_agent_tfidf_11    217   0.629728\n",
      "54         body_tfidf_12    390   0.589028\n",
      "5           url_filetype    243   0.553386\n",
      "14   url_unquote_tfidf_4    539   0.548798\n",
      "52         body_tfidf_10    224   0.542063\n",
      "58         body_tfidf_16    206   0.539792\n",
      "65         body_tfidf_23    283   0.505693\n",
      "0                 method    148   0.485471\n",
      "32    user_agent_tfidf_6    227   0.467558\n",
      "45          body_tfidf_3    288   0.457759\n",
      "22  url_unquote_tfidf_12    591   0.454127\n",
      "29    user_agent_tfidf_3    219   0.439362\n",
      "1                  refer    251   0.438235\n",
      "40   user_agent_tfidf_14    187   0.438215\n",
      "46          body_tfidf_4    233   0.424255\n",
      "19   url_unquote_tfidf_9    574   0.418943\n",
      "64         body_tfidf_22    430   0.381202\n",
      "62         body_tfidf_20    217   0.358932\n",
      "48          body_tfidf_6    183   0.357659\n",
      "41   user_agent_tfidf_15    262   0.342163\n",
      "34    user_agent_tfidf_8    246   0.328375\n",
      "28    user_agent_tfidf_2    234   0.295871\n",
      "51          body_tfidf_9    277   0.292847\n",
      "8               ua_short    176   0.284087\n",
      "4      url_query_len_std    171   0.271975\n",
      "Fold 4\n",
      "Training until validation scores don't improve for 100 rounds\n",
      "[100]\ttraining's multi_logloss: 0.00592821\tvalid_1's multi_logloss: 0.0590461\n",
      "Early stopping, best iteration is:\n",
      "[70]\ttraining's multi_logloss: 0.00893847\tvalid_1's multi_logloss: 0.0575791\n",
      "Features importance...\n",
      "Top 50 features:\n",
      "                  feature  split       gain\n",
      "42          body_tfidf_0    325  14.167538\n",
      "11   url_unquote_tfidf_1    755  11.439877\n",
      "43          body_tfidf_1    296  10.693332\n",
      "23  url_unquote_tfidf_13    741   6.391095\n",
      "13   url_unquote_tfidf_3    669   5.654533\n",
      "30    user_agent_tfidf_4    248   4.649770\n",
      "26    user_agent_tfidf_0    279   3.955652\n",
      "15   url_unquote_tfidf_5    578   2.873648\n",
      "17   url_unquote_tfidf_7    792   2.744428\n",
      "21  url_unquote_tfidf_11    751   2.441653\n",
      "16   url_unquote_tfidf_6    669   2.339128\n",
      "12   url_unquote_tfidf_2    509   2.047044\n",
      "56         body_tfidf_14    289   1.888438\n",
      "47          body_tfidf_5    210   1.536831\n",
      "20  url_unquote_tfidf_10    590   1.499999\n",
      "27    user_agent_tfidf_1    211   1.479829\n",
      "3      url_query_max_len    297   1.302644\n",
      "25  url_unquote_tfidf_15    663   1.111572\n",
      "10   url_unquote_tfidf_0    681   1.094024\n",
      "31    user_agent_tfidf_5    352   1.032504\n",
      "6           url_path_len    674   0.991660\n",
      "18   url_unquote_tfidf_8    633   0.862981\n",
      "24  url_unquote_tfidf_14    727   0.831149\n",
      "58         body_tfidf_16    208   0.729500\n",
      "50          body_tfidf_8    262   0.704655\n",
      "70         body_tfidf_28    307   0.695723\n",
      "37   user_agent_tfidf_11    237   0.656437\n",
      "22  url_unquote_tfidf_12    590   0.609283\n",
      "54         body_tfidf_12    384   0.565510\n",
      "5           url_filetype    234   0.548621\n",
      "65         body_tfidf_23    291   0.505329\n",
      "40   user_agent_tfidf_14    203   0.499171\n",
      "14   url_unquote_tfidf_4    557   0.484696\n",
      "0                 method    133   0.447144\n",
      "41   user_agent_tfidf_15    273   0.415138\n",
      "32    user_agent_tfidf_6    249   0.412480\n",
      "29    user_agent_tfidf_3    214   0.388872\n",
      "64         body_tfidf_22    393   0.381982\n",
      "19   url_unquote_tfidf_9    574   0.379491\n",
      "52         body_tfidf_10    201   0.378825\n",
      "9               ua_first     72   0.377528\n",
      "46          body_tfidf_4    229   0.370846\n",
      "28    user_agent_tfidf_2    209   0.366458\n",
      "51          body_tfidf_9    291   0.366159\n",
      "62         body_tfidf_20    206   0.360463\n",
      "48          body_tfidf_6    232   0.345502\n",
      "8               ua_short    177   0.323654\n",
      "39   user_agent_tfidf_13    242   0.315067\n",
      "35    user_agent_tfidf_9    164   0.313411\n",
      "45          body_tfidf_3    283   0.304637\n",
      "Fold 5\n",
      "Training until validation scores don't improve for 100 rounds\n",
      "[100]\ttraining's multi_logloss: 0.00600579\tvalid_1's multi_logloss: 0.0586722\n",
      "Early stopping, best iteration is:\n",
      "[73]\ttraining's multi_logloss: 0.00847187\tvalid_1's multi_logloss: 0.0579333\n",
      "Features importance...\n",
      "Top 50 features:\n",
      "                  feature  split       gain\n",
      "42          body_tfidf_0    349  14.227561\n",
      "11   url_unquote_tfidf_1    787  11.028420\n",
      "43          body_tfidf_1    276  10.671254\n",
      "23  url_unquote_tfidf_13    806   6.540843\n",
      "13   url_unquote_tfidf_3    690   5.515938\n",
      "30    user_agent_tfidf_4    234   4.800494\n",
      "26    user_agent_tfidf_0    313   3.889326\n",
      "17   url_unquote_tfidf_7    766   2.882079\n",
      "15   url_unquote_tfidf_5    616   2.732771\n",
      "16   url_unquote_tfidf_6    710   2.496213\n",
      "21  url_unquote_tfidf_11    727   2.361472\n",
      "12   url_unquote_tfidf_2    600   2.082282\n",
      "56         body_tfidf_14    271   1.761152\n",
      "20  url_unquote_tfidf_10    659   1.515093\n",
      "3      url_query_max_len    299   1.505085\n",
      "47          body_tfidf_5    237   1.501073\n",
      "27    user_agent_tfidf_1    193   1.394144\n",
      "10   url_unquote_tfidf_0    689   1.144263\n",
      "25  url_unquote_tfidf_15    727   1.077978\n",
      "6           url_path_len    727   0.986393\n",
      "31    user_agent_tfidf_5    321   0.915459\n",
      "18   url_unquote_tfidf_8    729   0.842438\n",
      "37   user_agent_tfidf_11    242   0.835799\n",
      "58         body_tfidf_16    219   0.801760\n",
      "54         body_tfidf_12    399   0.771236\n",
      "24  url_unquote_tfidf_14    733   0.680814\n",
      "70         body_tfidf_28    313   0.670283\n",
      "14   url_unquote_tfidf_4    586   0.572230\n",
      "65         body_tfidf_23    291   0.560778\n",
      "35    user_agent_tfidf_9    141   0.535508\n",
      "22  url_unquote_tfidf_12    641   0.507885\n",
      "5           url_filetype    265   0.493635\n",
      "0                 method    161   0.463364\n",
      "19   url_unquote_tfidf_9    623   0.446823\n",
      "28    user_agent_tfidf_2    242   0.439379\n",
      "64         body_tfidf_22    395   0.436270\n",
      "52         body_tfidf_10    215   0.426833\n",
      "51          body_tfidf_9    298   0.421932\n",
      "1                  refer    272   0.418942\n",
      "41   user_agent_tfidf_15    253   0.372412\n",
      "32    user_agent_tfidf_6    244   0.366062\n",
      "62         body_tfidf_20    212   0.364627\n",
      "46          body_tfidf_4    244   0.363094\n",
      "67         body_tfidf_25    288   0.330960\n",
      "34    user_agent_tfidf_8    217   0.319795\n",
      "29    user_agent_tfidf_3    193   0.319410\n",
      "48          body_tfidf_6    217   0.310546\n",
      "39   user_agent_tfidf_13    245   0.308345\n",
      "45          body_tfidf_3    297   0.307426\n",
      "44          body_tfidf_2    187   0.290627\n"
     ]
    }
   ],
   "source": [
    "NUM_CLASSES = 6\n",
    "FOLDS = 5\n",
    "TARGET = 'label'\n",
    "\n",
    "from sklearn.preprocessing import label_binarize\n",
    "\n",
    "def run_lgb(df_train, df_test, use_features):\n",
    "    \n",
    "    target = TARGET\n",
    "    oof_pred = np.zeros((len(df_train), NUM_CLASSES))\n",
    "    y_pred = np.zeros((len(df_test), NUM_CLASSES))\n",
    "    \n",
    "    folds = StratifiedKFold(n_splits=FOLDS)\n",
    "    for fold, (tr_ind, val_ind) in enumerate(folds.split(train, train[TARGET])):\n",
    "        print(f'Fold {fold + 1}')\n",
    "        x_train, x_val = df_train[use_features].iloc[tr_ind], df_train[use_features].iloc[val_ind]\n",
    "        y_train, y_val = df_train[target].iloc[tr_ind], df_train[target].iloc[val_ind]\n",
    "        train_set = lgb.Dataset(x_train, y_train)\n",
    "        val_set = lgb.Dataset(x_val, y_val)\n",
    "        \n",
    "        params = {\n",
    "            'learning_rate': 0.1,\n",
    "            'metric': 'multiclass',\n",
    "            'objective': 'multiclass',\n",
    "            'num_classes': NUM_CLASSES,\n",
    "            'feature_fraction': 0.75,\n",
    "            'bagging_fraction': 0.75,\n",
    "            'bagging_freq': 2,\n",
    "            'n_jobs': -1,\n",
    "            'seed': 2022,\n",
    "            'max_depth': 10,\n",
    "            'num_leaves': 100,\n",
    "            'lambda_l1': 0.5,\n",
    "            'lambda_l2': 0.8,\n",
    "            'verbose': -1\n",
    "        }\n",
    "        \n",
    "        model = lgb.train(params, \n",
    "                          train_set, \n",
    "                          num_boost_round=500,\n",
    "                          early_stopping_rounds=100,\n",
    "                          valid_sets=[train_set, val_set],\n",
    "                          verbose_eval=100)\n",
    "        oof_pred[val_ind] = model.predict(x_val)\n",
    "        y_pred += model.predict(df_test[use_features]) / folds.n_splits\n",
    "        \n",
    "        print(\"Features importance...\")\n",
    "        gain = model.feature_importance('gain')\n",
    "        feat_imp = pd.DataFrame({'feature': model.feature_name(), \n",
    "                         'split': model.feature_importance('split'), \n",
    "                         'gain': 100 * gain / gain.sum()}).sort_values('gain', ascending=False)\n",
    "        print('Top 50 features:\\n', feat_imp.head(50))\n",
    "        \n",
    "        del x_train, x_val, y_train, y_val, train_set, val_set\n",
    "        gc.collect()\n",
    "        \n",
    "    return y_pred, oof_pred\n",
    "    \n",
    "\n",
    "y_pred, oof_pred = run_lgb(train, test, use_features)"
   ]
  },
  {
   "cell_type": "code",
   "execution_count": 23,
   "metadata": {},
   "outputs": [
    {
     "data": {
      "text/plain": "0.980071645744905"
     },
     "execution_count": 23,
     "metadata": {},
     "output_type": "execute_result"
    }
   ],
   "source": [
    "print(accuracy_score(np.argmax(oof_pred, axis=1), df_train['label']))"
   ]
  },
  {
   "cell_type": "code",
   "execution_count": 25,
   "metadata": {},
   "outputs": [
    {
     "data": {
      "text/plain": "        id  predict\n0        0        1\n1        1        1\n2        2        5\n3        3        0\n4        4        3\n...    ...      ...\n3995  3995        1\n3996  3996        1\n3997  3997        0\n3998  3998        0\n3999  3999        2\n\n[4000 rows x 2 columns]",
      "text/html": "<div>\n<style scoped>\n    .dataframe tbody tr th:only-of-type {\n        vertical-align: middle;\n    }\n\n    .dataframe tbody tr th {\n        vertical-align: top;\n    }\n\n    .dataframe thead th {\n        text-align: right;\n    }\n</style>\n<table border=\"1\" class=\"dataframe\">\n  <thead>\n    <tr style=\"text-align: right;\">\n      <th></th>\n      <th>id</th>\n      <th>predict</th>\n    </tr>\n  </thead>\n  <tbody>\n    <tr>\n      <th>0</th>\n      <td>0</td>\n      <td>1</td>\n    </tr>\n    <tr>\n      <th>1</th>\n      <td>1</td>\n      <td>1</td>\n    </tr>\n    <tr>\n      <th>2</th>\n      <td>2</td>\n      <td>5</td>\n    </tr>\n    <tr>\n      <th>3</th>\n      <td>3</td>\n      <td>0</td>\n    </tr>\n    <tr>\n      <th>4</th>\n      <td>4</td>\n      <td>3</td>\n    </tr>\n    <tr>\n      <th>...</th>\n      <td>...</td>\n      <td>...</td>\n    </tr>\n    <tr>\n      <th>3995</th>\n      <td>3995</td>\n      <td>1</td>\n    </tr>\n    <tr>\n      <th>3996</th>\n      <td>3996</td>\n      <td>1</td>\n    </tr>\n    <tr>\n      <th>3997</th>\n      <td>3997</td>\n      <td>0</td>\n    </tr>\n    <tr>\n      <th>3998</th>\n      <td>3998</td>\n      <td>0</td>\n    </tr>\n    <tr>\n      <th>3999</th>\n      <td>3999</td>\n      <td>2</td>\n    </tr>\n  </tbody>\n</table>\n<p>4000 rows × 2 columns</p>\n</div>"
     },
     "execution_count": 25,
     "metadata": {},
     "output_type": "execute_result"
    }
   ],
   "source": [
    "sub = pd.read_csv('../data/submit_example.csv')\n",
    "sub['predict'] = np.argmax(y_pred, axis=1)\n",
    "sub"
   ]
  },
  {
   "cell_type": "code",
   "execution_count": 26,
   "metadata": {},
   "outputs": [
    {
     "data": {
      "text/plain": "2    898\n0    814\n1    810\n3    652\n4    428\n5    398\nName: predict, dtype: int64"
     },
     "execution_count": 26,
     "metadata": {},
     "output_type": "execute_result"
    }
   ],
   "source": [
    "sub['predict'].value_counts()"
   ]
  },
  {
   "cell_type": "code",
   "execution_count": 27,
   "metadata": {},
   "outputs": [],
   "source": [
    "sub.to_csv('baseline-22-9-1.csv', index=False)"
   ]
  },
  {
   "cell_type": "code",
   "execution_count": null,
   "metadata": {},
   "outputs": [],
   "source": []
  }
 ],
 "metadata": {
  "kernelspec": {
   "display_name": "Python 3",
   "language": "python",
   "name": "python3"
  },
  "language_info": {
   "codemirror_mode": {
    "name": "ipython",
    "version": 3
   },
   "file_extension": ".py",
   "mimetype": "text/x-python",
   "name": "python",
   "nbconvert_exporter": "python",
   "pygments_lexer": "ipython3",
   "version": "3.7.4"
  }
 },
 "nbformat": 4,
 "nbformat_minor": 2
}